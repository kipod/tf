{
 "cells": [
  {
   "cell_type": "code",
   "execution_count": 1,
   "metadata": {},
   "outputs": [
    {
     "name": "stdout",
     "output_type": "stream",
     "text": [
      "env: TF_CPP_MIN_LOG_LEVEL=2\n",
      "tf.Tensor([[-12.]], shape=(1, 1), dtype=float32)\n",
      "tf.Tensor([[0.]], shape=(1, 1), dtype=float32)\n"
     ]
    }
   ],
   "source": [
    "%env TF_CPP_MIN_LOG_LEVEL=2\n",
    "\n",
    "import tensorflow as tf  # noqa: E402\n",
    "\n",
    "x = tf.Variable([[2.0]])\n",
    "y = tf.Variable([[-4.0]])\n",
    "\n",
    "with tf.GradientTape() as t:\n",
    "    f = (x + y) ** 2 + 2 * x * y\n",
    "\n",
    "df = t.gradient(f, [x, y])\n",
    "print(df[0], df[1], sep='\\n')\n"
   ]
  },
  {
   "cell_type": "code",
   "execution_count": 2,
   "metadata": {},
   "outputs": [
    {
     "name": "stdout",
     "output_type": "stream",
     "text": [
      "True\n"
     ]
    }
   ],
   "source": [
    "print(tf.executing_eagerly())"
   ]
  },
  {
   "cell_type": "code",
   "execution_count": 9,
   "metadata": {},
   "outputs": [
    {
     "name": "stdout",
     "output_type": "stream",
     "text": [
      "tf.Tensor(\n",
      "[[1. 2.]\n",
      " [3. 4.]\n",
      " [5. 6.]], shape=(3, 2), dtype=float16)\n",
      "[[1. 2.]\n",
      " [3. 4.]\n",
      " [5. 6.]]\n"
     ]
    }
   ],
   "source": [
    "a = tf.constant(1, shape=[1,1])\n",
    "b = tf.constant([1,2,3,4])\n",
    "c = tf.constant([[1,2],\n",
    "                 [3,4],\n",
    "                 [5,6]], dtype=tf.float16)\n",
    "print(c)\n",
    "print(c.numpy())"
   ]
  },
  {
   "cell_type": "code",
   "execution_count": 20,
   "metadata": {},
   "outputs": [
    {
     "name": "stdout",
     "output_type": "stream",
     "text": [
      "<tf.Variable 'Variable:0' shape=(4,) dtype=float32, numpy=array([10.,  3.,  4.,  5.], dtype=float32)>\n",
      "tf.Tensor(2.0, shape=(), dtype=float32)\n",
      "tf.Tensor([3. 4.], shape=(2,), dtype=float32)\n"
     ]
    }
   ],
   "source": [
    "v1 = tf.Variable([1,2,3,4], dtype=tf.float32)\n",
    "v1.assign_add([1,1,1,1])\n",
    "\n",
    "# print(v1)\n",
    "\n",
    "val_0 = v1[0]\n",
    "val_12 = v1[1:3]\n",
    "\n",
    "val_0.assign(10)\n",
    "\n",
    "print(v1, val_0, val_12, sep='\\n')"
   ]
  },
  {
   "cell_type": "code",
   "execution_count": 22,
   "metadata": {},
   "outputs": [
    {
     "name": "stdout",
     "output_type": "stream",
     "text": [
      "tf.Tensor([ 5  6  7  8  9 10 11 12 13 14], shape=(10,), dtype=int32)\n",
      "tf.Tensor([5 9], shape=(2,), dtype=int32)\n"
     ]
    }
   ],
   "source": [
    "x = tf.constant(range(10)) + 5\n",
    "x_idx = tf.gather(x, [0, 4])\n",
    "\n",
    "print(x, x_idx, sep='\\n')"
   ]
  },
  {
   "cell_type": "code",
   "execution_count": 23,
   "metadata": {},
   "outputs": [
    {
     "name": "stdout",
     "output_type": "stream",
     "text": [
      "tf.Tensor(\n",
      "[[1 2 3]\n",
      " [4 5 6]\n",
      " [7 8 9]], shape=(3, 3), dtype=int32)\n",
      "tf.Tensor(5, shape=(), dtype=int32)\n"
     ]
    }
   ],
   "source": [
    "v = tf.constant([[1,2,3], [4,5,6], [7,8,9]])\n",
    "v_idx = v[1, 1]\n",
    "print(v, v_idx, sep='\\n')"
   ]
  },
  {
   "cell_type": "code",
   "execution_count": 26,
   "metadata": {},
   "outputs": [
    {
     "name": "stdout",
     "output_type": "stream",
     "text": [
      "tf.Tensor(\n",
      "[[ 0  1  2  3  4  5]\n",
      " [ 6  7  8  9 10 11]\n",
      " [12 13 14 15 16 17]\n",
      " [18 19 20 21 22 23]\n",
      " [24 25 26 27 28 29]], shape=(5, 6), dtype=int32)\n",
      "tf.Tensor(\n",
      "[[ 0  6 12 18 24]\n",
      " [ 1  7 13 19 25]\n",
      " [ 2  8 14 20 26]\n",
      " [ 3  9 15 21 27]\n",
      " [ 4 10 16 22 28]\n",
      " [ 5 11 17 23 29]], shape=(6, 5), dtype=int32)\n"
     ]
    }
   ],
   "source": [
    "a = tf.constant(range(30))\n",
    "b = tf.reshape(a, (5,6))\n",
    "c = tf.transpose(b, perm=[1,0])\n",
    "\n",
    "print(b, c, sep='\\n')"
   ]
  },
  {
   "cell_type": "code",
   "execution_count": 30,
   "metadata": {},
   "outputs": [
    {
     "name": "stdout",
     "output_type": "stream",
     "text": [
      "tf.Tensor(\n",
      "[[1. 0. 0.]\n",
      " [0. 1. 0.]\n",
      " [0. 0. 1.]], shape=(3, 3), dtype=float32)\n"
     ]
    },
    {
     "data": {
      "text/plain": [
       "<tf.Tensor: shape=(3, 3), dtype=float32, numpy=\n",
       "array([[1., 1., 1.],\n",
       "       [1., 1., 1.],\n",
       "       [1., 1., 1.]], dtype=float32)>"
      ]
     },
     "execution_count": 30,
     "metadata": {},
     "output_type": "execute_result"
    }
   ],
   "source": [
    "x = tf.eye(3)\n",
    "print(x)\n",
    "tf.ones([3,3])"
   ]
  },
  {
   "cell_type": "code",
   "execution_count": 31,
   "metadata": {},
   "outputs": [
    {
     "name": "stdout",
     "output_type": "stream",
     "text": [
      "tf.Tensor(\n",
      "[[0.16513085 0.9014813  0.6309742 ]\n",
      " [0.4345461  0.29193902 0.64250207]\n",
      " [0.9757855  0.43509948 0.6601019 ]], shape=(3, 3), dtype=float32)\n",
      "tf.Tensor(\n",
      "[[0.16513085 0.9014813  0.6309742 ]\n",
      " [0.4345461  0.29193902 0.64250207]\n",
      " [0.9757855  0.43509948 0.6601019 ]], shape=(3, 3), dtype=float32)\n"
     ]
    }
   ],
   "source": [
    "tf.random.set_seed(1)\n",
    "a = tf.random.uniform((3,3))\n",
    "tf.random.set_seed(1)\n",
    "b = tf.random.uniform((3,3))\n",
    "print(a, b, sep='\\n')"
   ]
  },
  {
   "cell_type": "code",
   "execution_count": 34,
   "metadata": {},
   "outputs": [
    {
     "name": "stdout",
     "output_type": "stream",
     "text": [
      "tf.Tensor(\n",
      "[[1 2 3]\n",
      " [4 5 6]\n",
      " [7 8 9]], shape=(3, 3), dtype=int32)\n",
      "tf.Tensor(\n",
      "[[ 5  6  7]\n",
      " [ 8  9 10]\n",
      " [11 12 13]], shape=(3, 3), dtype=int32)\n"
     ]
    },
    {
     "data": {
      "text/plain": [
       "<tf.Tensor: shape=(3, 3), dtype=int32, numpy=\n",
       "array([[ 54,  60,  66],\n",
       "       [126, 141, 156],\n",
       "       [198, 222, 246]], dtype=int32)>"
      ]
     },
     "execution_count": 34,
     "metadata": {},
     "output_type": "execute_result"
    }
   ],
   "source": [
    "a2 = tf.constant(tf.range(1,10), shape=(3,3))\n",
    "b2 = tf.constant(tf.range(5,14), shape=(3,3))\n",
    "print(a2, b2, sep='\\n')\n",
    "# tf.matmul(a2, b2)\n",
    "a2 @ b2\n"
   ]
  },
  {
   "cell_type": "code",
   "execution_count": 37,
   "metadata": {},
   "outputs": [
    {
     "data": {
      "text/plain": [
       "<tf.Tensor: shape=(5,), dtype=float32, numpy=\n",
       "array([0.        , 0.5       , 0.70710677, 0.86602545, 1.        ],\n",
       "      dtype=float32)>"
      ]
     },
     "execution_count": 37,
     "metadata": {},
     "output_type": "execute_result"
    }
   ],
   "source": [
    "from math import pi\n",
    "tf.sin(tf.constant([0, 30, 45, 60, 90], dtype=tf.float32) * pi / 180.0)"
   ]
  },
  {
   "cell_type": "code",
   "execution_count": 41,
   "metadata": {},
   "outputs": [
    {
     "name": "stdout",
     "output_type": "stream",
     "text": [
      "tf.Tensor(4.0, shape=(), dtype=float32)\n"
     ]
    }
   ],
   "source": [
    "x = tf.Variable(2.0)\n",
    "\n",
    "with tf.GradientTape() as t:\n",
    "    y = x * x\n",
    "\n",
    "dy_dx = t.gradient(y, x)\n",
    "print(dy_dx)"
   ]
  }
 ],
 "metadata": {
  "kernelspec": {
   "display_name": ".venv",
   "language": "python",
   "name": "python3"
  },
  "language_info": {
   "codemirror_mode": {
    "name": "ipython",
    "version": 3
   },
   "file_extension": ".py",
   "mimetype": "text/x-python",
   "name": "python",
   "nbconvert_exporter": "python",
   "pygments_lexer": "ipython3",
   "version": "3.11.6"
  }
 },
 "nbformat": 4,
 "nbformat_minor": 2
}
