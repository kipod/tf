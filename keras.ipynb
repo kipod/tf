{
 "cells": [
  {
   "cell_type": "code",
   "execution_count": 66,
   "metadata": {},
   "outputs": [
    {
     "name": "stdout",
     "output_type": "stream",
     "text": [
      "env: TF_CPP_MIN_LOG_LEVEL=2\n"
     ]
    }
   ],
   "source": [
    "# https://youtu.be/QogFIWa1YMg?list=PLA0M1Bcd0w8ynD1umfubKq1OBYRXhXkmH\n",
    "%env TF_CPP_MIN_LOG_LEVEL=2\n",
    "\n",
    "import tensorflow as tf  # noqa: E402\n",
    "from tensorflow.keras.datasets import mnist  # noqa: E402\n",
    "from tensorflow.keras.utils import to_categorical  # noqa: E402\n",
    "\n",
    "\n",
    "class DenseLayer(tf.keras.layers.Layer):\n",
    "    def __init__(self, units):\n",
    "        super().__init__()\n",
    "        self.units = units  # number of neurons\n",
    "\n",
    "    def build(self, input_shape):\n",
    "        self.w = self.add_weight(\n",
    "            name=\"w\",\n",
    "            shape=(input_shape[-1], self.units),\n",
    "            initializer=\"random_normal\",\n",
    "            trainable=True,\n",
    "        )\n",
    "        self.b = self.add_weight(\n",
    "            name=\"b\",\n",
    "            shape=(self.units,),\n",
    "            initializer=\"zeros\",\n",
    "            trainable=True,\n",
    "        )\n",
    "\n",
    "    def call(self, inputs):\n",
    "        # regular = 100.0 * tf.reduce_mean(tf.square(self.w))\n",
    "        # self.add_loss(regular)\n",
    "        return tf.matmul(inputs, self.w) + self.b\n"
   ]
  },
  {
   "cell_type": "code",
   "execution_count": 68,
   "metadata": {},
   "outputs": [],
   "source": [
    "class NeuralNetwork(tf.keras.Model):\n",
    "    def __init__(self, num_classes=10):\n",
    "        super().__init__()\n",
    "        self.layer_1 = DenseLayer(128)\n",
    "        self.layer_2 = DenseLayer(num_classes)\n",
    "\n",
    "    def call(self, inputs):\n",
    "        x = self.layer_1(inputs)\n",
    "        x = tf.nn.relu(x)\n",
    "        x = self.layer_2(x)\n",
    "        x = tf.nn.softmax(x)\n",
    "        return x"
   ]
  },
  {
   "cell_type": "code",
   "execution_count": 69,
   "metadata": {},
   "outputs": [],
   "source": [
    "model = NeuralNetwork()\n",
    "\n",
    "# model.compile(\n",
    "#     # optimizer=tf.keras.optimizers.Adam(learning_rate=0.001),\n",
    "#     optimizer=tf.keras.optimizers.legacy.Adam(learning_rate=0.001),  # for M1/M2 Mac\n",
    "#     loss=tf.losses.CategoricalCrossentropy(),\n",
    "#     metrics=[\"accuracy\"],\n",
    "# )\n",
    "\n",
    "model.compile(\n",
    "    optimizer=\"adam\",\n",
    "    # optimizer=tf.keras.optimizers.legacy.Adam(learning_rate=0.0001),  # for M1/M2 Mac\n",
    "    loss=\"categorical_crossentropy\",\n",
    "    metrics=[\"accuracy\"],\n",
    ")"
   ]
  },
  {
   "cell_type": "code",
   "execution_count": 70,
   "metadata": {},
   "outputs": [],
   "source": [
    "# Load MNIST dataset\n",
    "(x_train, y_train), (x_test, y_test) = mnist.load_data()\n",
    "\n",
    "# Preprocess data\n",
    "x_train = tf.cast(x_train.reshape((-1, 28 * 28)) / 255.0, tf.float32)\n",
    "x_test = tf.cast(x_test.reshape((-1, 28 * 28)) / 255.0, tf.float32)\n",
    "\n",
    "y_train = to_categorical(y_train, 10)\n",
    "y_test_cat = to_categorical(y_test, 10)"
   ]
  },
  {
   "cell_type": "code",
   "execution_count": 71,
   "metadata": {},
   "outputs": [
    {
     "name": "stdout",
     "output_type": "stream",
     "text": [
      "Epoch 1/10\n",
      "1875/1875 [==============================] - 2s 844us/step - loss: 0.7870 - accuracy: 0.8857\n",
      "Epoch 2/10\n",
      "1875/1875 [==============================] - 1s 654us/step - loss: 0.6839 - accuracy: 0.9099\n",
      "Epoch 3/10\n",
      "1875/1875 [==============================] - 1s 580us/step - loss: 0.6789 - accuracy: 0.9102\n",
      "Epoch 4/10\n",
      "1875/1875 [==============================] - 1s 598us/step - loss: 0.6746 - accuracy: 0.9127\n",
      "Epoch 5/10\n",
      "1875/1875 [==============================] - 1s 619us/step - loss: 0.6731 - accuracy: 0.9116\n",
      "Epoch 6/10\n",
      "1875/1875 [==============================] - 1s 564us/step - loss: 0.6721 - accuracy: 0.9119\n",
      "Epoch 7/10\n",
      "1875/1875 [==============================] - 1s 568us/step - loss: 0.6701 - accuracy: 0.9125\n",
      "Epoch 8/10\n",
      "1875/1875 [==============================] - 1s 544us/step - loss: 0.6690 - accuracy: 0.9130\n",
      "Epoch 9/10\n",
      "1875/1875 [==============================] - 1s 557us/step - loss: 0.6683 - accuracy: 0.9128\n",
      "Epoch 10/10\n",
      "1875/1875 [==============================] - 1s 532us/step - loss: 0.6674 - accuracy: 0.9128\n"
     ]
    },
    {
     "data": {
      "text/plain": [
       "<keras.src.callbacks.History at 0x17baf8c10>"
      ]
     },
     "execution_count": 71,
     "metadata": {},
     "output_type": "execute_result"
    }
   ],
   "source": [
    "# Learning...\n",
    "model.fit(\n",
    "    x_train,\n",
    "    y_train,\n",
    "    batch_size=32,\n",
    "    epochs=10,\n",
    "    # validation_data=(x_test, y_test_cat),\n",
    "    # verbose=2,\n",
    ")"
   ]
  },
  {
   "cell_type": "markdown",
   "metadata": {},
   "source": []
  },
  {
   "cell_type": "code",
   "execution_count": 72,
   "metadata": {},
   "outputs": [
    {
     "name": "stdout",
     "output_type": "stream",
     "text": [
      "313/313 [==============================] - 0s 433us/step - loss: 0.6518 - accuracy: 0.9147\n",
      "[0.6518005132675171, 0.9146999716758728]\n"
     ]
    }
   ],
   "source": [
    "# Testing...\n",
    "print(model.evaluate(x_test, y_test_cat))"
   ]
  },
  {
   "cell_type": "code",
   "execution_count": 73,
   "metadata": {},
   "outputs": [
    {
     "data": {
      "text/plain": [
       "<tf.Tensor: shape=(1, 10), dtype=int32, numpy=array([[0, 0, 0, 0, 0, 0, 0, 0, 0, 0]], dtype=int32)>"
      ]
     },
     "execution_count": 73,
     "metadata": {},
     "output_type": "execute_result"
    }
   ],
   "source": [
    "tf.random.uniform((1, 10), minval=0, maxval=1, dtype=tf.int32)"
   ]
  }
 ],
 "metadata": {
  "kernelspec": {
   "display_name": ".venv",
   "language": "python",
   "name": "python3"
  },
  "language_info": {
   "codemirror_mode": {
    "name": "ipython",
    "version": 3
   },
   "file_extension": ".py",
   "mimetype": "text/x-python",
   "name": "python",
   "nbconvert_exporter": "python",
   "pygments_lexer": "ipython3",
   "version": "3.11.6"
  }
 },
 "nbformat": 4,
 "nbformat_minor": 2
}
