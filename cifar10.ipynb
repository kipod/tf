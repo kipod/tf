{
 "cells": [
  {
   "cell_type": "code",
   "execution_count": 2,
   "metadata": {},
   "outputs": [
    {
     "name": "stdout",
     "output_type": "stream",
     "text": [
      "env: TF_CPP_MIN_LOG_LEVEL=2\n"
     ]
    }
   ],
   "source": [
    "# https://youtu.be/Zu5RzqdQJXo?list=PLA0M1Bcd0w8ynD1umfubKq1OBYRXhXkmH\n",
    "%env TF_CPP_MIN_LOG_LEVEL=2\n",
    "\n",
    "import tensorflow as tf  # noqa: E402\n",
    "from tensorflow.keras import layers # noqa: E402\n",
    "from tensorflow import keras  # noqa: E402\n",
    "from tensorflow.keras.datasets import cifar10  # noqa: E402\n",
    "import matplotlib.pyplot as plt  # noqa: E402\n"
   ]
  },
  {
   "cell_type": "code",
   "execution_count": 27,
   "metadata": {},
   "outputs": [],
   "source": [
    "# Model\n",
    "tf.random.set_seed(1)\n",
    "\n",
    "input = keras.Input(shape=(32, 32, 3), name='img')\n",
    "x = layers.Conv2D(32, 3, activation='relu')(input)\n",
    "x = layers.MaxPooling2D(2, padding='same')(x)\n",
    "x = layers.Conv2D(64, 3, activation='relu')(x)\n",
    "x = layers.MaxPooling2D(2, padding='same')(x)\n",
    "x = layers.Flatten()(x)\n",
    "x = layers.Dense(256, activation='relu')(x)\n",
    "x = layers.Dropout(0.5)(x)\n",
    "output = layers.Dense(10, activation='softmax')(x)\n",
    "\n",
    "model = keras.Model(inputs=input, outputs=output, name='cifar10_model')\n",
    "\n",
    "# model.summary()\n",
    "\n",
    "model.compile(\n",
    "    loss=\"categorical_crossentropy\",\n",
    "    optimizer=\"adam\",\n",
    "    metrics=['accuracy'],\n",
    ")"
   ]
  },
  {
   "cell_type": "code",
   "execution_count": 28,
   "metadata": {},
   "outputs": [],
   "source": [
    "# Data\n",
    "(x_train, y_train), (x_test, y_test) = cifar10.load_data()\n",
    "x_train = x_train / 255.\n",
    "x_test = x_test / 255.\n",
    "\n",
    "y_train = keras.utils.to_categorical(y_train, 10)\n",
    "y_test = keras.utils.to_categorical(y_test, 10)\n"
   ]
  },
  {
   "cell_type": "code",
   "execution_count": 30,
   "metadata": {},
   "outputs": [
    {
     "name": "stdout",
     "output_type": "stream",
     "text": [
      "Epoch 1/20\n",
      "625/625 [==============================] - 9s 15ms/step - loss: 0.3338 - accuracy: 0.8774 - val_loss: 1.0091 - val_accuracy: 0.7231\n",
      "Epoch 2/20\n",
      "625/625 [==============================] - 9s 15ms/step - loss: 0.3192 - accuracy: 0.8844 - val_loss: 1.0627 - val_accuracy: 0.7201\n",
      "Epoch 3/20\n",
      "625/625 [==============================] - 9s 15ms/step - loss: 0.3080 - accuracy: 0.8875 - val_loss: 1.0793 - val_accuracy: 0.7249\n",
      "Epoch 4/20\n",
      "625/625 [==============================] - 10s 15ms/step - loss: 0.2905 - accuracy: 0.8939 - val_loss: 1.1501 - val_accuracy: 0.7193\n",
      "Epoch 5/20\n",
      "625/625 [==============================] - 10s 15ms/step - loss: 0.2877 - accuracy: 0.8920 - val_loss: 1.1120 - val_accuracy: 0.7249\n",
      "Epoch 6/20\n",
      "625/625 [==============================] - 10s 15ms/step - loss: 0.2684 - accuracy: 0.8998 - val_loss: 1.2599 - val_accuracy: 0.7156\n",
      "Epoch 7/20\n",
      "625/625 [==============================] - 10s 15ms/step - loss: 0.2665 - accuracy: 0.9007 - val_loss: 1.1476 - val_accuracy: 0.7200\n",
      "Epoch 8/20\n",
      "625/625 [==============================] - 13s 22ms/step - loss: 0.2526 - accuracy: 0.9052 - val_loss: 1.2071 - val_accuracy: 0.7166\n",
      "Epoch 9/20\n",
      "625/625 [==============================] - 13s 20ms/step - loss: 0.2512 - accuracy: 0.9083 - val_loss: 1.2604 - val_accuracy: 0.7242\n",
      "Epoch 10/20\n",
      "625/625 [==============================] - 10s 16ms/step - loss: 0.2396 - accuracy: 0.9122 - val_loss: 1.2459 - val_accuracy: 0.7182\n",
      "Epoch 11/20\n",
      "625/625 [==============================] - 10s 16ms/step - loss: 0.2302 - accuracy: 0.9148 - val_loss: 1.2895 - val_accuracy: 0.7195\n",
      "Epoch 12/20\n",
      "625/625 [==============================] - 10s 16ms/step - loss: 0.2206 - accuracy: 0.9199 - val_loss: 1.3323 - val_accuracy: 0.7134\n",
      "Epoch 13/20\n",
      "625/625 [==============================] - 11s 18ms/step - loss: 0.2178 - accuracy: 0.9197 - val_loss: 1.3573 - val_accuracy: 0.7129\n",
      "Epoch 14/20\n",
      "625/625 [==============================] - 12s 19ms/step - loss: 0.2126 - accuracy: 0.9220 - val_loss: 1.3705 - val_accuracy: 0.7089\n",
      "Epoch 15/20\n",
      "625/625 [==============================] - 10s 16ms/step - loss: 0.2093 - accuracy: 0.9227 - val_loss: 1.3943 - val_accuracy: 0.7155\n",
      "Epoch 16/20\n",
      "625/625 [==============================] - 10s 16ms/step - loss: 0.2014 - accuracy: 0.9256 - val_loss: 1.4975 - val_accuracy: 0.7203\n",
      "Epoch 17/20\n",
      "625/625 [==============================] - 10s 16ms/step - loss: 0.2076 - accuracy: 0.9218 - val_loss: 1.4128 - val_accuracy: 0.7178\n",
      "Epoch 18/20\n",
      "625/625 [==============================] - 10s 16ms/step - loss: 0.1979 - accuracy: 0.9282 - val_loss: 1.4452 - val_accuracy: 0.7164\n",
      "Epoch 19/20\n",
      "625/625 [==============================] - 10s 16ms/step - loss: 0.1980 - accuracy: 0.9278 - val_loss: 1.4209 - val_accuracy: 0.7136\n",
      "Epoch 20/20\n",
      "625/625 [==============================] - 10s 16ms/step - loss: 0.1908 - accuracy: 0.9296 - val_loss: 1.4081 - val_accuracy: 0.7194\n",
      "313/313 - 1s - loss: 1.3968 - accuracy: 0.7184 - 787ms/epoch - 3ms/step\n",
      "Test loss: 1.3968342542648315\n"
     ]
    }
   ],
   "source": [
    "# Learning\n",
    "\n",
    "history = model.fit(\n",
    "    x_train,\n",
    "    y_train,\n",
    "    batch_size=64,\n",
    "    epochs=20,\n",
    "    validation_split=0.2,\n",
    ")\n"
   ]
  },
  {
   "cell_type": "code",
   "execution_count": 32,
   "metadata": {},
   "outputs": [
    {
     "name": "stdout",
     "output_type": "stream",
     "text": [
      "313/313 - 1s - loss: 1.3968 - accuracy: 0.7184 - 701ms/epoch - 2ms/step\n"
     ]
    },
    {
     "data": {
      "text/plain": [
       "[1.3968342542648315, 0.7184000015258789]"
      ]
     },
     "execution_count": 32,
     "metadata": {},
     "output_type": "execute_result"
    }
   ],
   "source": [
    "# Evaluation\n",
    "model.evaluate(x_test, y_test, verbose=2)"
   ]
  }
 ],
 "metadata": {
  "kernelspec": {
   "display_name": ".venv",
   "language": "python",
   "name": "python3"
  },
  "language_info": {
   "codemirror_mode": {
    "name": "ipython",
    "version": 3
   },
   "file_extension": ".py",
   "mimetype": "text/x-python",
   "name": "python",
   "nbconvert_exporter": "python",
   "pygments_lexer": "ipython3",
   "version": "3.11.6"
  }
 },
 "nbformat": 4,
 "nbformat_minor": 2
}
