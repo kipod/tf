{
 "cells": [
  {
   "cell_type": "code",
   "execution_count": 2,
   "metadata": {},
   "outputs": [
    {
     "name": "stdout",
     "output_type": "stream",
     "text": [
      "env: TF_CPP_MIN_LOG_LEVEL=2\n"
     ]
    }
   ],
   "source": [
    "# https://youtu.be/Zu5RzqdQJXo?list=PLA0M1Bcd0w8ynD1umfubKq1OBYRXhXkmH\n",
    "%env TF_CPP_MIN_LOG_LEVEL=2\n",
    "\n",
    "import tensorflow as tf  # noqa: E402\n",
    "from tensorflow.keras import layers # noqa: E402\n",
    "from tensorflow import keras  # noqa: E402\n",
    "from tensorflow.keras.datasets import cifar10  # noqa: E402\n",
    "import matplotlib.pyplot as plt  # noqa: E402\n"
   ]
  },
  {
   "cell_type": "code",
   "execution_count": 27,
   "metadata": {},
   "outputs": [],
   "source": [
    "# Model\n",
    "tf.random.set_seed(1)\n",
    "\n",
    "input = keras.Input(shape=(32, 32, 3), name='img')\n",
    "x = layers.Conv2D(32, 3, activation='relu')(input)\n",
    "x = layers.MaxPooling2D(2, padding='same')(x)\n",
    "x = layers.Conv2D(64, 3, activation='relu')(x)\n",
    "x = layers.MaxPooling2D(2, padding='same')(x)\n",
    "x = layers.Flatten()(x)\n",
    "x = layers.Dense(256, activation='relu')(x)\n",
    "x = layers.Dropout(0.5)(x)\n",
    "output = layers.Dense(10, activation='softmax')(x)\n",
    "\n",
    "model = keras.Model(inputs=input, outputs=output, name='cifar10_model')\n",
    "\n",
    "# model.summary()\n",
    "\n",
    "model.compile(\n",
    "    loss=\"categorical_crossentropy\",\n",
    "    optimizer=\"adam\",\n",
    "    metrics=['accuracy'],\n",
    ")"
   ]
  },
  {
   "cell_type": "code",
   "execution_count": 28,
   "metadata": {},
   "outputs": [],
   "source": [
    "# Data\n",
    "(x_train, y_train), (x_test, y_test) = cifar10.load_data()\n",
    "x_train = x_train / 255.\n",
    "x_test = x_test / 255.\n",
    "\n",
    "y_train = keras.utils.to_categorical(y_train, 10)\n",
    "y_test = keras.utils.to_categorical(y_test, 10)\n"
   ]
  },
  {
   "cell_type": "code",
   "execution_count": 29,
   "metadata": {},
   "outputs": [
    {
     "name": "stdout",
     "output_type": "stream",
     "text": [
      "Epoch 1/20\n",
      "625/625 [==============================] - 10s 16ms/step - loss: 1.5951 - accuracy: 0.4196 - val_loss: 1.2946 - val_accuracy: 0.5487\n",
      "Epoch 2/20\n",
      "625/625 [==============================] - 10s 15ms/step - loss: 1.2421 - accuracy: 0.5555 - val_loss: 1.1088 - val_accuracy: 0.6132\n",
      "Epoch 3/20\n",
      "625/625 [==============================] - 10s 15ms/step - loss: 1.0925 - accuracy: 0.6159 - val_loss: 1.0368 - val_accuracy: 0.6375\n",
      "Epoch 4/20\n",
      "625/625 [==============================] - 11s 18ms/step - loss: 0.9951 - accuracy: 0.6499 - val_loss: 0.9377 - val_accuracy: 0.6720\n",
      "Epoch 5/20\n",
      "625/625 [==============================] - 14s 22ms/step - loss: 0.9178 - accuracy: 0.6789 - val_loss: 0.9191 - val_accuracy: 0.6828\n",
      "Epoch 6/20\n",
      "625/625 [==============================] - 10s 16ms/step - loss: 0.8582 - accuracy: 0.6994 - val_loss: 0.8712 - val_accuracy: 0.6998\n",
      "Epoch 7/20\n",
      "625/625 [==============================] - 10s 16ms/step - loss: 0.7988 - accuracy: 0.7188 - val_loss: 0.8603 - val_accuracy: 0.7002\n",
      "Epoch 8/20\n",
      "625/625 [==============================] - 10s 16ms/step - loss: 0.7488 - accuracy: 0.7343 - val_loss: 0.8613 - val_accuracy: 0.7064\n",
      "Epoch 9/20\n",
      "625/625 [==============================] - 10s 16ms/step - loss: 0.6995 - accuracy: 0.7544 - val_loss: 0.8402 - val_accuracy: 0.7193\n",
      "Epoch 10/20\n",
      "625/625 [==============================] - 10s 15ms/step - loss: 0.6532 - accuracy: 0.7679 - val_loss: 0.8354 - val_accuracy: 0.7199\n",
      "Epoch 11/20\n",
      "625/625 [==============================] - 10s 17ms/step - loss: 0.6149 - accuracy: 0.7810 - val_loss: 0.8455 - val_accuracy: 0.7200\n",
      "Epoch 12/20\n",
      "625/625 [==============================] - 10s 16ms/step - loss: 0.5757 - accuracy: 0.7947 - val_loss: 0.8658 - val_accuracy: 0.7183\n",
      "Epoch 13/20\n",
      "625/625 [==============================] - 10s 16ms/step - loss: 0.5371 - accuracy: 0.8070 - val_loss: 0.9157 - val_accuracy: 0.7047\n",
      "Epoch 14/20\n",
      "625/625 [==============================] - 10s 16ms/step - loss: 0.5100 - accuracy: 0.8174 - val_loss: 0.8944 - val_accuracy: 0.7153\n",
      "Epoch 15/20\n",
      "625/625 [==============================] - 10s 16ms/step - loss: 0.4693 - accuracy: 0.8309 - val_loss: 0.8943 - val_accuracy: 0.7241\n",
      "Epoch 16/20\n",
      "625/625 [==============================] - 10s 16ms/step - loss: 0.4504 - accuracy: 0.8373 - val_loss: 0.9161 - val_accuracy: 0.7187\n",
      "Epoch 17/20\n",
      "625/625 [==============================] - 14s 23ms/step - loss: 0.4228 - accuracy: 0.8489 - val_loss: 0.9189 - val_accuracy: 0.7242\n",
      "Epoch 18/20\n",
      "625/625 [==============================] - 11s 17ms/step - loss: 0.4019 - accuracy: 0.8544 - val_loss: 0.9760 - val_accuracy: 0.7127\n",
      "Epoch 19/20\n",
      "624/625 [============================>.] - ETA: 0s - loss: 0.3753 - accuracy: 0.8628"
     ]
    }
   ],
   "source": [
    "# Learning\n",
    "\n",
    "history = model.fit(\n",
    "    x_train,\n",
    "    y_train,\n",
    "    batch_size=64,\n",
    "    epochs=20,\n",
    "    validation_split=0.2,\n",
    ")\n",
    "\n",
    "# Evaluation\n",
    "test_scores = model.evaluate(x_test, y_test, verbose=2)\n",
    "print('Test loss:', test_scores[0])"
   ]
  }
 ],
 "metadata": {
  "kernelspec": {
   "display_name": ".venv",
   "language": "python",
   "name": "python3"
  },
  "language_info": {
   "codemirror_mode": {
    "name": "ipython",
    "version": 3
   },
   "file_extension": ".py",
   "mimetype": "text/x-python",
   "name": "python",
   "nbconvert_exporter": "python",
   "pygments_lexer": "ipython3",
   "version": "3.11.6"
  }
 },
 "nbformat": 4,
 "nbformat_minor": 2
}
