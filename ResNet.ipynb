{
 "cells": [
  {
   "cell_type": "markdown",
   "metadata": {},
   "source": [
    "![Image Description](./img/ResNet.png)\n"
   ]
  },
  {
   "cell_type": "code",
   "execution_count": 5,
   "metadata": {},
   "outputs": [
    {
     "name": "stdout",
     "output_type": "stream",
     "text": [
      "env: TF_CPP_MIN_LOG_LEVEL=2\n"
     ]
    }
   ],
   "source": [
    "# https://youtu.be/7CWelTcQnSA?list=PLA0M1Bcd0w8ynD1umfubKq1OBYRXhXkmH\n",
    "%env TF_CPP_MIN_LOG_LEVEL=2\n",
    "\n",
    "import tensorflow as tf  # noqa: E402\n",
    "from tensorflow.keras import layers # noqa: E402\n",
    "from tensorflow import keras  # noqa: E402\n",
    "from tensorflow.keras.datasets import cifar10  # noqa: E402\n",
    "import matplotlib.pyplot as plt  # noqa: E402\n",
    "\n",
    "tf.random.set_seed(1)\n"
   ]
  },
  {
   "cell_type": "code",
   "execution_count": 6,
   "metadata": {},
   "outputs": [],
   "source": [
    "# Load the data\n",
    "\n",
    "(x_train, y_train), (x_test, y_test) = cifar10.load_data()\n",
    "\n",
    "# Normalize the data\n",
    "x_train = x_train.astype(\"float32\") / 255.0\n",
    "x_test = x_test.astype(\"float32\") / 255.0\n",
    "\n",
    "# Convert the labels to one-hot encoded\n",
    "y_train = keras.utils.to_categorical(y_train, 10)\n",
    "y_test = keras.utils.to_categorical(y_test, 10)"
   ]
  },
  {
   "cell_type": "code",
   "execution_count": 11,
   "metadata": {},
   "outputs": [],
   "source": [
    "\"\"\"\n",
    "### A toy ResNet model\n",
    "\n",
    "In addition to models with multiple inputs and outputs,\n",
    "the functional API makes it easy to manipulate non-linear connectivity\n",
    "topologies -- these are models with layers that are not connected sequentially,\n",
    "which the `Sequential` API cannot handle.\n",
    "\n",
    "A common use case for this is residual connections.\n",
    "Let's build a toy ResNet model for CIFAR10 to demonstrate this:\n",
    "\"\"\"\n",
    "\n",
    "inputs = keras.Input(shape=(32, 32, 3), name=\"img\")\n",
    "x = layers.Conv2D(32, 3, activation=\"relu\")(inputs)\n",
    "x = layers.Conv2D(64, 3, activation=\"relu\")(x)\n",
    "block_1_output = layers.MaxPooling2D(3)(x)\n",
    "\n",
    "x = layers.Conv2D(64, 3, activation=\"relu\", padding=\"same\")(block_1_output)\n",
    "x = layers.Conv2D(64, 3, activation=\"relu\", padding=\"same\")(x)\n",
    "block_2_output = layers.add([x, block_1_output])\n",
    "\n",
    "x = layers.Conv2D(64, 3, activation=\"relu\", padding=\"same\")(block_2_output)\n",
    "x = layers.Conv2D(64, 3, activation=\"relu\", padding=\"same\")(x)\n",
    "block_3_output = layers.add([x, block_2_output])\n",
    "\n",
    "x = layers.Conv2D(64, 3, activation=\"relu\")(block_3_output)\n",
    "x = layers.GlobalAveragePooling2D()(x)\n",
    "x = layers.Dense(256, activation=\"relu\")(x)\n",
    "x = layers.Dropout(0.5)(x)\n",
    "outputs = layers.Dense(10)(x)\n",
    "\n",
    "model = keras.Model(inputs, outputs, name=\"toy_resnet\")\n",
    "# model.summary()\n",
    "\n",
    "model.compile(\n",
    "    optimizer=\"adam\",\n",
    "    loss=\"categorical_crossentropy\",\n",
    "    metrics=[\"accuracy\"],\n",
    ")"
   ]
  },
  {
   "cell_type": "code",
   "execution_count": null,
   "metadata": {},
   "outputs": [],
   "source": [
    "\"\"\"\n",
    "Plot the model:\n",
    "\"\"\"\n",
    "\n",
    "keras.utils.plot_model(model, \"mini_resnet.png\", show_shapes=True)"
   ]
  },
  {
   "cell_type": "code",
   "execution_count": 12,
   "metadata": {},
   "outputs": [
    {
     "name": "stdout",
     "output_type": "stream",
     "text": [
      "Epoch 1/15\n",
      "625/625 [==============================] - 35s 55ms/step - loss: 7.9360 - accuracy: 0.0997 - val_loss: 8.0252 - val_accuracy: 0.1003\n",
      "Epoch 2/15\n",
      "625/625 [==============================] - 38s 60ms/step - loss: 8.1105 - accuracy: 0.1002 - val_loss: 8.0252 - val_accuracy: 0.1025\n",
      "Epoch 3/15\n",
      "625/625 [==============================] - 36s 58ms/step - loss: 8.1189 - accuracy: 0.1020 - val_loss: 9.7402 - val_accuracy: 0.1003\n",
      "Epoch 4/15\n",
      "625/625 [==============================] - 38s 60ms/step - loss: 8.1849 - accuracy: 0.0965 - val_loss: 8.0155 - val_accuracy: 0.1003\n",
      "Epoch 5/15\n",
      "625/625 [==============================] - 40s 64ms/step - loss: 8.0058 - accuracy: 0.1010 - val_loss: 8.1026 - val_accuracy: 0.1003\n",
      "Epoch 6/15\n",
      "625/625 [==============================] - 38s 60ms/step - loss: 8.2034 - accuracy: 0.0996 - val_loss: 8.1606 - val_accuracy: 0.1003\n",
      "Epoch 7/15\n",
      "625/625 [==============================] - 37s 59ms/step - loss: 8.0569 - accuracy: 0.0994 - val_loss: 7.9575 - val_accuracy: 0.1003\n",
      "Epoch 8/15\n",
      "625/625 [==============================] - 37s 60ms/step - loss: 8.0823 - accuracy: 0.0986 - val_loss: 8.1606 - val_accuracy: 0.0997\n",
      "Epoch 9/15\n",
      "625/625 [==============================] - 40s 63ms/step - loss: 7.9898 - accuracy: 0.0986 - val_loss: 8.1606 - val_accuracy: 0.1003\n",
      "Epoch 10/15\n",
      "625/625 [==============================] - 37s 59ms/step - loss: 8.0564 - accuracy: 0.0998 - val_loss: 7.9575 - val_accuracy: 0.1003\n",
      "Epoch 11/15\n",
      "625/625 [==============================] - 37s 59ms/step - loss: 8.0167 - accuracy: 0.0982 - val_loss: 8.1606 - val_accuracy: 0.1003\n",
      "Epoch 12/15\n",
      "625/625 [==============================] - 39s 62ms/step - loss: 8.0674 - accuracy: 0.1011 - val_loss: 8.1606 - val_accuracy: 0.1016\n",
      "Epoch 13/15\n",
      "625/625 [==============================] - 37s 59ms/step - loss: 8.1083 - accuracy: 0.0984 - val_loss: 9.6950 - val_accuracy: 0.1016\n",
      "Epoch 14/15\n",
      "625/625 [==============================] - 37s 59ms/step - loss: 8.0963 - accuracy: 0.0984 - val_loss: 8.1606 - val_accuracy: 0.1022\n",
      "Epoch 15/15\n",
      "625/625 [==============================] - 37s 59ms/step - loss: 8.1240 - accuracy: 0.0979 - val_loss: 7.9575 - val_accuracy: 0.1022\n",
      "313/313 [==============================] - 4s 13ms/step - loss: 8.0590 - accuracy: 0.1000\n"
     ]
    },
    {
     "data": {
      "text/plain": [
       "[8.059049606323242, 0.10000000149011612]"
      ]
     },
     "execution_count": 12,
     "metadata": {},
     "output_type": "execute_result"
    }
   ],
   "source": [
    "# Learn the model\n",
    "\n",
    "# We restrict the data to the first 1000 samples so as to limit execution time\n",
    "# on Colab. Try to train on the entire dataset until convergence!\n",
    "# model.fit(\n",
    "#     x_train[:1000],\n",
    "#     y_train[:1000],\n",
    "#     batch_size=64,\n",
    "#     epochs=1,\n",
    "#     validation_split=0.2,\n",
    "# )\n",
    "\n",
    "model.fit(\n",
    "    x_train,\n",
    "    y_train,\n",
    "    batch_size=64,\n",
    "    epochs=15,\n",
    "    validation_split=0.2,\n",
    ")\n",
    "\n",
    "model.evaluate(x_test, y_test)"
   ]
  }
 ],
 "metadata": {
  "kernelspec": {
   "display_name": ".venv",
   "language": "python",
   "name": "python3"
  },
  "language_info": {
   "codemirror_mode": {
    "name": "ipython",
    "version": 3
   },
   "file_extension": ".py",
   "mimetype": "text/x-python",
   "name": "python",
   "nbconvert_exporter": "python",
   "pygments_lexer": "ipython3",
   "version": "3.11.6"
  }
 },
 "nbformat": 4,
 "nbformat_minor": 2
}
