{
 "cells": [
  {
   "cell_type": "code",
   "execution_count": 1,
   "metadata": {},
   "outputs": [
    {
     "name": "stdout",
     "output_type": "stream",
     "text": [
      "env: TF_CPP_MIN_LOG_LEVEL=2\n"
     ]
    }
   ],
   "source": [
    "%env TF_CPP_MIN_LOG_LEVEL=2\n",
    "\n",
    "import tensorflow as tf  # noqa: E402\n",
    "\n",
    "class DenseNN(tf.Module):\n",
    "    def __init__(self, outputs_size, name=None):\n",
    "        super().__init__(name)\n",
    "        self.outputs_size = outputs_size\n",
    "        self.lf_init = False\n",
    "\n",
    "    def __call__(self, x):\n",
    "        if not self.lf_init:\n",
    "            self.w = tf.random.truncated_normal([x.shape[-1], self.outputs_size], stddev=0.1, name='w')\n",
    "            self.b = tf.zeros([self.outputs_size], dtype=tf.float32, name='b')\n",
    "\n",
    "            self.w = tf.Variable(self.w)\n",
    "            self.b = tf.Variable(self.b)\n",
    "\n",
    "            self.lf_init = True\n",
    "\n",
    "        y = x @ self.w + self.b\n",
    "        return y"
   ]
  },
  {
   "cell_type": "code",
   "execution_count": 6,
   "metadata": {},
   "outputs": [
    {
     "name": "stderr",
     "output_type": "stream",
     "text": [
      "WARNING:absl:At this time, the v2.11+ optimizer `tf.keras.optimizers.Adam` runs slowly on M1/M2 Macs, please use the legacy Keras optimizer instead, located at `tf.keras.optimizers.legacy.Adam`.\n"
     ]
    },
    {
     "name": "stdout",
     "output_type": "stream",
     "text": [
      "Epoch 1/50 loss: 42.17020797729492\n",
      "Epoch 2/50 loss: 1.9779977798461914\n",
      "Epoch 3/50 loss: 0.21851231157779694\n",
      "Epoch 4/50 loss: 0.14285103976726532\n",
      "Epoch 5/50 loss: 0.1277094930410385\n",
      "Epoch 6/50 loss: 0.11490078270435333\n",
      "Epoch 7/50 loss: 0.10309311002492905\n",
      "Epoch 8/50 loss: 0.0923156589269638\n",
      "Epoch 9/50 loss: 0.08253367990255356\n",
      "Epoch 10/50 loss: 0.07367580384016037\n",
      "Epoch 11/50 loss: 0.06565350294113159\n",
      "Epoch 12/50 loss: 0.05837979540228844\n",
      "Epoch 13/50 loss: 0.05177576094865799\n",
      "Epoch 14/50 loss: 0.04577099531888962\n",
      "Epoch 15/50 loss: 0.04030529782176018\n",
      "Epoch 16/50 loss: 0.035322386771440506\n",
      "Epoch 17/50 loss: 0.03077913634479046\n",
      "Epoch 18/50 loss: 0.026636231690645218\n",
      "Epoch 19/50 loss: 0.022862393409013748\n",
      "Epoch 20/50 loss: 0.019433557987213135\n",
      "Epoch 21/50 loss: 0.016330886632204056\n",
      "Epoch 22/50 loss: 0.01354224607348442\n",
      "Epoch 23/50 loss: 0.01105937734246254\n",
      "Epoch 24/50 loss: 0.008875821717083454\n",
      "Epoch 25/50 loss: 0.0069843437522649765\n",
      "Epoch 26/50 loss: 0.005376998335123062\n",
      "Epoch 27/50 loss: 0.004041147883981466\n",
      "Epoch 28/50 loss: 0.0029590970370918512\n",
      "Epoch 29/50 loss: 0.002107717329636216\n",
      "Epoch 30/50 loss: 0.0014597061090171337\n",
      "Epoch 31/50 loss: 0.0009834888624027371\n",
      "Epoch 32/50 loss: 0.0006464284379035234\n",
      "Epoch 33/50 loss: 0.0004169015446677804\n",
      "Epoch 34/50 loss: 0.0002661942271515727\n",
      "Epoch 35/50 loss: 0.00017040414968505502\n",
      "Epoch 36/50 loss: 0.00011105157318525016\n",
      "Epoch 37/50 loss: 7.475350867025554e-05\n",
      "Epoch 38/50 loss: 5.256006625131704e-05\n",
      "Epoch 39/50 loss: 3.8686706830048934e-05\n",
      "Epoch 40/50 loss: 2.9694816475966945e-05\n",
      "Epoch 41/50 loss: 2.3563279683003202e-05\n",
      "Epoch 42/50 loss: 1.8978083971887827e-05\n",
      "Epoch 43/50 loss: 1.534832699690014e-05\n",
      "Epoch 44/50 loss: 1.2316741049289703e-05\n",
      "Epoch 45/50 loss: 9.65388971962966e-06\n",
      "Epoch 46/50 loss: 7.33562046661973e-06\n",
      "Epoch 47/50 loss: 5.361638613976538e-06\n",
      "Epoch 48/50 loss: 3.7553254514932632e-06\n",
      "Epoch 49/50 loss: 2.488119207555428e-06\n",
      "Epoch 50/50 loss: 1.5703299141023308e-06\n",
      "(<tf.Variable 'Variable:0' shape=(1,) dtype=float32, numpy=array([0.00321873], dtype=float32)>, <tf.Variable 'Variable:0' shape=(2, 1) dtype=float32, numpy=\n",
      "array([[0.9997495 ],\n",
      "       [0.99971193]], dtype=float32)>)\n",
      "tf.Tensor([[99.97813]], shape=(1, 1), dtype=float32)\n"
     ]
    }
   ],
   "source": [
    "model = DenseNN(1)\n",
    "\n",
    "x = tf.constant([[1., 2.]])\n",
    "# print(model(x))\n",
    "\n",
    "x_train = tf.random.uniform(minval=1, maxval=10, shape=(100, 2))\n",
    "y_train = [a + b for a, b in x_train]\n",
    "\n",
    "def loss(x, y):\n",
    "    return tf.reduce_mean(tf.square(x - y))\n",
    "\n",
    "opt = tf.optimizers.Adam(learning_rate=0.01)\n",
    "\n",
    "# Learn model\n",
    "EPOCHS = 50\n",
    "for epoch in range(EPOCHS):\n",
    "    for x, y in zip(x_train, y_train):\n",
    "        x = tf.expand_dims(x, axis=0)\n",
    "        y = tf.constant(y, shape=(1, 1))\n",
    "\n",
    "        with tf.GradientTape() as tape:\n",
    "            f_loss = loss(model(x), y)\n",
    "\n",
    "        grads = tape.gradient(f_loss, model.trainable_variables)\n",
    "        opt.apply_gradients(zip(grads, model.trainable_variables))\n",
    "\n",
    "    print(f'Epoch {epoch + 1}/{EPOCHS} loss: {f_loss.numpy()}')\n",
    "\n",
    "print(model.trainable_variables)\n",
    "print(model(tf.constant([[99, 1]], dtype=tf.float32)))\n"
   ]
  }
 ],
 "metadata": {
  "kernelspec": {
   "display_name": ".venv",
   "language": "python",
   "name": "python3"
  },
  "language_info": {
   "codemirror_mode": {
    "name": "ipython",
    "version": 3
   },
   "file_extension": ".py",
   "mimetype": "text/x-python",
   "name": "python",
   "nbconvert_exporter": "python",
   "pygments_lexer": "ipython3",
   "version": "3.11.6"
  }
 },
 "nbformat": 4,
 "nbformat_minor": 2
}
